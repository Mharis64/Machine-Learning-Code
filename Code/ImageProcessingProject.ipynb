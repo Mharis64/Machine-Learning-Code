{
 "cells": [
  {
   "cell_type": "code",
   "execution_count": null,
   "id": "bb07e37d-d5a0-43c6-b562-90ffc6a58855",
   "metadata": {},
   "outputs": [],
   "source": [
    "import cv2\n",
    "\n",
    "def resize(fname, width, height):\n",
    "    image = cv2.imread(fname)\n",
    "    cv2.imshow('original image', image)\n",
    "    cv2.waitKey(0)\n",
    "    org_height, org_width= image.shape[0:2]\n",
    "    print('width',org_width)\n",
    "    print('height',org_height)\n",
    "    if org_width >= org_height:\n",
    "        new_image = cv2.resize(image,(width,height))\n",
    "        new_image = cv2.resize(image,(height,width))\n",
    "        return fname,new_image\n",
    "\n",
    "filename, image = resize('bird.JPG', 1200, 960)\n",
    "cv2.imshow =('resized image',new_image)\n",
    "cv2.waitkey(0)"
   ]
  },
  {
   "cell_type": "code",
   "execution_count": null,
   "id": "791b5f76-c258-4ab4-a14f-09b77554e028",
   "metadata": {},
   "outputs": [],
   "source": []
  }
 ],
 "metadata": {
  "kernelspec": {
   "display_name": "Python 3 (ipykernel)",
   "language": "python",
   "name": "python3"
  },
  "language_info": {
   "codemirror_mode": {
    "name": "ipython",
    "version": 3
   },
   "file_extension": ".py",
   "mimetype": "text/x-python",
   "name": "python",
   "nbconvert_exporter": "python",
   "pygments_lexer": "ipython3",
   "version": "3.11.2"
  }
 },
 "nbformat": 4,
 "nbformat_minor": 5
}
